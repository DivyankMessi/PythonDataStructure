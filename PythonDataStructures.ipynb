{
 "cells": [
  {
   "cell_type": "markdown",
   "metadata": {},
   "source": [
    "# Python Data Structures"
   ]
  },
  {
   "cell_type": "markdown",
   "metadata": {},
   "source": [
    "## Theory Questions "
   ]
  },
  {
   "cell_type": "markdown",
   "metadata": {},
   "source": [
    "### Question 1 :  What are data structures, and why are they important ?"
   ]
  },
  {
   "cell_type": "markdown",
   "metadata": {},
   "source": [
    "Answer : Data structures are ways of organizing, storing, and managing data so it can be accessed and used efficiently. \n",
    "They are important because of following reasons:\n",
    "1.Choosing the right data structure significantly impacts the efficiency and performance of your program.\n",
    "2.Well-chosen data structures can:\n",
    "3.Simplify data manipulation (adding, removing, modifying elements)\n",
    "4.Optimize searching and sorting operations\n",
    "5.Conserve memory usage"
   ]
  },
  {
   "cell_type": "markdown",
   "metadata": {},
   "source": [
    "### Question 2 :  Explain the difference between mutable and immutable data types with examples."
   ]
  },
  {
   "cell_type": "markdown",
   "metadata": {},
   "source": [
    "Answer : The difference between mutable and immutable data types is mutable data types can be changed once created while immutable data types can't be changed once created."
   ]
  },
  {
   "cell_type": "code",
   "execution_count": 49,
   "metadata": {},
   "outputs": [
    {
     "name": "stdout",
     "output_type": "stream",
     "text": [
      "[10, 2, 3]\n"
     ]
    }
   ],
   "source": [
    "#Example of Mutable Data Type : \n",
    "my_list = [1, 2, 3]\n",
    "my_list[0] = 10  # Changing the first element\n",
    "print(my_list)  # Output: [10, 2, 3]"
   ]
  },
  {
   "cell_type": "code",
   "execution_count": 50,
   "metadata": {},
   "outputs": [
    {
     "ename": "TypeError",
     "evalue": "'tuple' object does not support item assignment",
     "output_type": "error",
     "traceback": [
      "\u001b[1;31m---------------------------------------------------------------------------\u001b[0m",
      "\u001b[1;31mTypeError\u001b[0m                                 Traceback (most recent call last)",
      "\u001b[1;32m<ipython-input-50-e1469ee9d52a>\u001b[0m in \u001b[0;36m<module>\u001b[1;34m\u001b[0m\n\u001b[0;32m      1\u001b[0m \u001b[1;31m#Example of Immutable Data Type :\u001b[0m\u001b[1;33m\u001b[0m\u001b[1;33m\u001b[0m\u001b[1;33m\u001b[0m\u001b[0m\n\u001b[0;32m      2\u001b[0m \u001b[0mmy_tuple\u001b[0m \u001b[1;33m=\u001b[0m \u001b[1;33m(\u001b[0m\u001b[1;36m1\u001b[0m\u001b[1;33m,\u001b[0m \u001b[1;36m2\u001b[0m\u001b[1;33m,\u001b[0m \u001b[1;36m3\u001b[0m\u001b[1;33m)\u001b[0m\u001b[1;33m\u001b[0m\u001b[1;33m\u001b[0m\u001b[0m\n\u001b[1;32m----> 3\u001b[1;33m \u001b[0mmy_tuple\u001b[0m\u001b[1;33m[\u001b[0m\u001b[1;36m0\u001b[0m\u001b[1;33m]\u001b[0m \u001b[1;33m=\u001b[0m \u001b[1;36m10\u001b[0m  \u001b[1;31m# This would raise a TypeError\u001b[0m\u001b[1;33m\u001b[0m\u001b[1;33m\u001b[0m\u001b[0m\n\u001b[0m",
      "\u001b[1;31mTypeError\u001b[0m: 'tuple' object does not support item assignment"
     ]
    }
   ],
   "source": [
    "#Example of Immutable Data Type :\n",
    "my_tuple = (1, 2, 3)\n",
    "my_tuple[0] = 10  # This would raise a TypeError"
   ]
  },
  {
   "cell_type": "markdown",
   "metadata": {},
   "source": [
    "It raised a TypeError because Tuple are immutable."
   ]
  },
  {
   "cell_type": "markdown",
   "metadata": {},
   "source": [
    "### Question 3 :  What are the main differences between lists and tuples in Python?"
   ]
  },
  {
   "cell_type": "markdown",
   "metadata": {},
   "source": [
    "Answer : The main differences between lists and tuples in Python are:\n",
    "\n",
    "Mutability: \n",
    "List : Mutable in nature, their elements can be modified after creation.   \n",
    "Tuple : Immutable in nature, their elements cannot be modified once created.\n",
    "    \n",
    "\n",
    "Syntax:   \n",
    "List : Defined using square brackets [ ]    \n",
    "Tuple : Defined using parentheses ( ).\n",
    "\n",
    "    \n",
    "Used Cases:   \n",
    "List : Generally used for Dynamic data.   \n",
    "Tuple : Generally used for fixed or constant data."
   ]
  },
  {
   "cell_type": "markdown",
   "metadata": {},
   "source": [
    "### Question 4 :  Describe how dictionaries store data?\n",
    "    "
   ]
  },
  {
   "cell_type": "markdown",
   "metadata": {},
   "source": [
    "Answer : Dictionaries in Python store data as key-value pairs in a highly efficient data structure called a hash table.\n",
    "Keys: These are unique identifiers for values. Keys must be immutable (e.g., strings, numbers, tuples).\n",
    "Values: These are the data associated with keys and can be of any data type, mutable or immutable.\n",
    "Example:\n",
    "my_dict = {'name': 'Divyank', 'age': 27, 'city': 'Chandigarh'}"
   ]
  },
  {
   "cell_type": "markdown",
   "metadata": {},
   "source": [
    "### Question 5 : Why might you use a set instead of a list in Python?"
   ]
  },
  {
   "cell_type": "markdown",
   "metadata": {},
   "source": [
    "Answer : We can use set instead of a list in Python because of following reasons:\n",
    "1.When you need to maintain a collection of unique items, such as a list of unique user IDs , employeeIDs or distinct words in a text.Since Sets automatically ensure that all elements are unique, whereas lists can contain duplicate values. \n",
    "2.When you need to find common or unique elements between collections.Sets support mathematical set operations like union, intersection, difference, and symmetric difference, which can be very efficient for tasks involving comparisons between collections.\n",
    "3.When order of elements is not needed."
   ]
  },
  {
   "cell_type": "markdown",
   "metadata": {},
   "source": [
    "### Question 6 : What is a string in Python, and how is it different from a list?"
   ]
  },
  {
   "cell_type": "markdown",
   "metadata": {},
   "source": [
    "Answer : In Python, a string is a sequence of characters used to represent text.\n",
    "String is different from a list in various factors such as:\n",
    "1.Mutablity:\n",
    "    String : Immutable — you cannot change the content of a string after it is created.\n",
    "    List : Mutable — you can modify the content of a list after it is created.\n",
    "2.Nature:\n",
    "    String : It is homogeneous in nature.It always stores characters (text).\n",
    "    List : It is hetrogeneous in nature. It can store multiple data types value.\n",
    "3.Operations:\n",
    "   String : It provides text-specific methods for manipulation, such as : Concatenation , Methods like .upper(), .split(), .find(), etc.\n",
    "   List : It provides methods for sequence management.Appending and removing elements."
   ]
  },
  {
   "cell_type": "markdown",
   "metadata": {},
   "source": [
    "### Question 7 :  How do tuples ensure data integrity in Python?"
   ]
  },
  {
   "cell_type": "markdown",
   "metadata": {},
   "source": [
    "Answer : Tuples in Python ensure data integrity through their immutability. This immutability guarantees that the data remains consistent and unchanged throughout the program, protecting against accidental or intentional modifications."
   ]
  },
  {
   "cell_type": "markdown",
   "metadata": {},
   "source": [
    "### Question 8 : What is a hash table, and how does it relate to dictionaries in Python?"
   ]
  },
  {
   "cell_type": "markdown",
   "metadata": {},
   "source": [
    "Answer : A hash table is a data structure that maps keys to values using a process called hashing. It is the underlying implementation used by Python's dictionaries to provide efficient storage and retrieval of key-value pairs.When you add a key-value pair, the dictionary applies a hash function to the key to generate a hash value.The hash value determines the index (bucket) in the underlying array where the key-value pair is stored."
   ]
  },
  {
   "cell_type": "markdown",
   "metadata": {},
   "source": [
    "### Question 9 : Can lists contain different data types in Python?"
   ]
  },
  {
   "cell_type": "markdown",
   "metadata": {},
   "source": [
    "Answer : Yes, lists in Python can contain elements of different data types.\n",
    "For Example : \n",
    "    mixed_list = [1, \"apple\", 3.14, True]"
   ]
  },
  {
   "cell_type": "markdown",
   "metadata": {},
   "source": [
    "### Question 10 :  Explain why strings are immutable in Python."
   ]
  },
  {
   "cell_type": "markdown",
   "metadata": {},
   "source": [
    "Answer : Strings in Python are immutable, meaning that once a string is created, its content cannot be changed.If strings were mutable, this optimization would be impossible because modifying one string would alter all references to it."
   ]
  },
  {
   "cell_type": "markdown",
   "metadata": {},
   "source": [
    "### Question 11 : What advantages do dictionaries offer over lists for certain tasks?"
   ]
  },
  {
   "cell_type": "markdown",
   "metadata": {},
   "source": [
    "Asnwer : Dictionaries in Python offer several key advantages over lists for certain tasks, primarily due to their ability to store and retrieve data based on keys rather than index positions.\n",
    "\n",
    "1.Dictionaries allow constant-time (O(1)) access to values based on their keys, which makes them far more efficient for searching compared to lists where as Lists require linear time (O(n)) to search for an item.\n",
    "\n",
    "2.In dictionaries, keys are unique. This ensures that each piece of data is associated with a single key, which is useful for ensuring data integrity and preventing duplication where as Lists can contain duplicate elements, which could make it difficult to track and differentiate items if you need to store unique data."
   ]
  },
  {
   "cell_type": "markdown",
   "metadata": {},
   "source": [
    "### Question 12 : Describe a scenario where using a tuple would be preferable over a list."
   ]
  },
  {
   "cell_type": "markdown",
   "metadata": {},
   "source": [
    "Answer : Using a tuple would be preferable over a list in scenarios where the data should not be modified after it is created, or where immutability and hashability provide specific advantages.\n",
    "\n",
    "You are working with a set of fixed values that should not change, such as coordinates(eg. Coordinates of a location) or dates or storing RGB values for a color, and you want to ensure that the data is not accidentally modified later in the program."
   ]
  },
  {
   "cell_type": "markdown",
   "metadata": {},
   "source": [
    "### Question 13 : How do sets handle duplicate values in Python?"
   ]
  },
  {
   "cell_type": "markdown",
   "metadata": {},
   "source": [
    "Answer : In Python, sets automatically remove duplicate values when elements are added to them. This means that a set can only contain unique elements. If you try to add a duplicate value to a set, it will simply ignore the duplicate and keep only the first occurrence."
   ]
  },
  {
   "cell_type": "markdown",
   "metadata": {},
   "source": [
    "### Question 14 : How does the “in” keyword work differently for lists and dictionaries?"
   ]
  },
  {
   "cell_type": "markdown",
   "metadata": {},
   "source": [
    "Answer : The in keyword in Python is used to check for membership, but it works differently for lists and dictionaries due to the underlying data structures.\n",
    "\n",
    "\"in\" with Lists :\n",
    "When you use the in keyword with a list, Python checks if a specified value exists as an element in the list.\n",
    "\n",
    "in\" with Dictionaries :\n",
    "When you use the in keyword with a dictionary, Python checks if a key exists in the dictionary, not the values."
   ]
  },
  {
   "cell_type": "markdown",
   "metadata": {},
   "source": [
    "### Question 15 : Can you modify the elements of a tuple? Explain why or why not?"
   ]
  },
  {
   "cell_type": "markdown",
   "metadata": {},
   "source": [
    "Answer : No, you cannot modify the elements of a tuple in Python. This is because tuples are immutable, meaning that once a tuple is created, its elements cannot be changed."
   ]
  },
  {
   "cell_type": "markdown",
   "metadata": {},
   "source": [
    "### Question 16 : What is a nested dictionary, and give an example of its use case?"
   ]
  },
  {
   "cell_type": "markdown",
   "metadata": {},
   "source": [
    "Answer : A nested dictionary is a dictionary in Python where the values can themselves be dictionaries. This means that dictionaries can be stored as values inside another dictionary, allowing for more complex data structures and hierarchical relationships."
   ]
  },
  {
   "cell_type": "code",
   "execution_count": 52,
   "metadata": {},
   "outputs": [
    {
     "name": "stdout",
     "output_type": "stream",
     "text": [
      "30\n",
      "Marketing\n"
     ]
    }
   ],
   "source": [
    "company = {\n",
    "    \"Divyank\": {\"role\": \"Manager\", \"age\": 30, \"department\": \"CEO\"},\n",
    "    \"Ayush\": {\"role\": \"Developer\", \"age\": 25, \"department\": \"IT\"},\n",
    "    \"Anvi\": {\"role\": \"Designer\", \"age\": 28, \"department\": \"Marketing\"}\n",
    "}\n",
    "\n",
    "# Accessing the age of Divyank\n",
    "print(company[\"Divyank\"][\"age\"])  # Output: 30\n",
    "\n",
    "# Accessing the department of Alice\n",
    "print(company[\"Anvi\"][\"department\"])  # Output: Marketing\n"
   ]
  },
  {
   "cell_type": "markdown",
   "metadata": {},
   "source": [
    "### Question 17 : Describe the time complexity of accessing elements in a dictionary."
   ]
  },
  {
   "cell_type": "markdown",
   "metadata": {},
   "source": [
    "Answer : The time complexity of accessing elements in a dictionary in Python is generally O(1) on average, meaning it takes constant time to access an element, regardless of the size of the dictionary. This is due to the way dictionaries are implemented using a hash table."
   ]
  },
  {
   "cell_type": "markdown",
   "metadata": {},
   "source": [
    "### Question 18 : In what situations are lists preferred over dictionaries."
   ]
  },
  {
   "cell_type": "markdown",
   "metadata": {},
   "source": [
    "Answer : Lists are preferred over dictionaries in situations where you need to work with ordered collections of items or where the data is indexed by position rather than by a key.\n",
    "Here are some situations where we should use lists over dictionaries : \n",
    "\n",
    "1.When the order of elements matters.\n",
    "\n",
    "2.When you need to access elements by their index.\n",
    "\n",
    "3.When you are working with sequences or collections of homogeneous data.\n",
    "\n",
    "4.When you need to perform ordered operations like sorting, slicing, or iteration.\n",
    "\n",
    "5.When you need to append or remove items frequently."
   ]
  },
  {
   "cell_type": "markdown",
   "metadata": {},
   "source": [
    "### Question 19 : Why are dictionaries considered unordered, and how does that affect data retrieval?"
   ]
  },
  {
   "cell_type": "markdown",
   "metadata": {},
   "source": [
    "Asnwer : Dictionaries in Python are considered unordered because, they do not guarantee any specific order for their key-value pairs.This means that the order in which you add elements to the dictionary does not necessarily match the order in which they are stored internally or retrieved.Data retrieval by key is still efficient (O(1) on average), meaning that unordered dictionaries can still provide fast searches regardless of the order of the elements."
   ]
  },
  {
   "cell_type": "markdown",
   "metadata": {},
   "source": [
    "### Question 20 : Explain the difference between a list and a dictionary in terms of data retrieval.?"
   ]
  },
  {
   "cell_type": "markdown",
   "metadata": {},
   "source": [
    "Answer : The primary difference between a list and a dictionary in terms of data retrieval lies in how data is accessed and how it is organized.\n",
    "\n",
    "Data Retrieval in a List:\n",
    "Accessed by Index: In a list, elements are stored in an ordered sequence, and you retrieve elements based on their index position.\n",
    "Ordered : Lists maintain the order of elements, so when you retrieve elements by their index, you get them in the order they were added.\n",
    "Time Complexity: Accessing an element by index in a list is an O(1) operation (constant time), which is very fast for direct access.\n",
    "\n",
    "Data Retrieval in a Dictionary:\n",
    "Accessed by Key: In a dictionary, data is stored as key-value pairs. You retrieve values by specifying the key, not by an index. The key can be any immutable data type (like a string, integer, or tuple).\n",
    "Unordered : Dictionaries are unordered collections. This means you do not retrieve values by position but by matching the key.\n",
    "Time Complexity: Retrieving a value using its key in a dictionary is on average an O(1) operation, making it very efficient. It uses a hash table internally to provide fast lookups by key."
   ]
  },
  {
   "cell_type": "markdown",
   "metadata": {},
   "source": [
    "# Practical Questions\n"
   ]
  },
  {
   "cell_type": "markdown",
   "metadata": {},
   "source": [
    "### Question 1 :  Write a code to create a string with your name and print it."
   ]
  },
  {
   "cell_type": "code",
   "execution_count": 14,
   "metadata": {},
   "outputs": [
    {
     "name": "stdout",
     "output_type": "stream",
     "text": [
      "Enter your name : Divyank\n",
      "Divyank\n"
     ]
    }
   ],
   "source": [
    "input_string = input(\"Enter your name : \")\n",
    "print(input_string)"
   ]
  },
  {
   "cell_type": "markdown",
   "metadata": {},
   "source": [
    "### Question 2 :  Write a code to find the length of the string \"Hello World\"."
   ]
  },
  {
   "cell_type": "code",
   "execution_count": 15,
   "metadata": {},
   "outputs": [
    {
     "name": "stdout",
     "output_type": "stream",
     "text": [
      "length of given string is 11\n"
     ]
    }
   ],
   "source": [
    "input_string = \"Hello World\"\n",
    "length = len(input_string)\n",
    "print(f\"length of given string is {length}\")"
   ]
  },
  {
   "cell_type": "markdown",
   "metadata": {},
   "source": [
    "### Question 3 : Write a code to slice the first 3 characters from the string \"Python Programming\"."
   ]
  },
  {
   "cell_type": "code",
   "execution_count": 16,
   "metadata": {},
   "outputs": [
    {
     "name": "stdout",
     "output_type": "stream",
     "text": [
      "hon Programming\n"
     ]
    }
   ],
   "source": [
    "input_string = \"Python Programming\"\n",
    "print(input_string[3:])"
   ]
  },
  {
   "cell_type": "markdown",
   "metadata": {},
   "source": [
    "### Question 4 :  Write a code to convert the string \"hello\" to uppercase."
   ]
  },
  {
   "cell_type": "code",
   "execution_count": 17,
   "metadata": {},
   "outputs": [
    {
     "name": "stdout",
     "output_type": "stream",
     "text": [
      "HELLO\n"
     ]
    }
   ],
   "source": [
    "str = \"hello\"\n",
    "print(str.upper())"
   ]
  },
  {
   "cell_type": "markdown",
   "metadata": {},
   "source": [
    "### Question 5 : Write a code to replace the word \"apple\" with \"orange\" in the string \"I like apple\". "
   ]
  },
  {
   "cell_type": "code",
   "execution_count": 18,
   "metadata": {},
   "outputs": [
    {
     "name": "stdout",
     "output_type": "stream",
     "text": [
      "I like orange\n"
     ]
    }
   ],
   "source": [
    "str1 = \"I like apple\"\n",
    "str1 = str1.replace(\"apple\" , \"orange\")\n",
    "print(str1)"
   ]
  },
  {
   "cell_type": "markdown",
   "metadata": {},
   "source": [
    "### Question 6 : Write a code to create a list with numbers 1 to 5 and print it. "
   ]
  },
  {
   "cell_type": "code",
   "execution_count": 19,
   "metadata": {},
   "outputs": [
    {
     "name": "stdout",
     "output_type": "stream",
     "text": [
      "[1, 2, 3, 4, 5]\n"
     ]
    }
   ],
   "source": [
    "list1 = []\n",
    "for i in range(1,6):\n",
    "    list1.append(i)\n",
    "print(list1)    "
   ]
  },
  {
   "cell_type": "markdown",
   "metadata": {},
   "source": [
    "### Question 7 : Write a code to append the number 10 to the list [1, 2, 3, 4]. "
   ]
  },
  {
   "cell_type": "code",
   "execution_count": 25,
   "metadata": {},
   "outputs": [
    {
     "name": "stdout",
     "output_type": "stream",
     "text": [
      "[1, 2, 3, 4, 10]\n"
     ]
    }
   ],
   "source": [
    "given_list = [1,2,3,4]\n",
    "given_list.append(10)\n",
    "print(given_list)"
   ]
  },
  {
   "cell_type": "markdown",
   "metadata": {},
   "source": [
    "### Question 8 :  Write a code to remove the number 3 from the list [1, 2, 3, 4, 5]."
   ]
  },
  {
   "cell_type": "code",
   "execution_count": 26,
   "metadata": {},
   "outputs": [
    {
     "name": "stdout",
     "output_type": "stream",
     "text": [
      "[1, 2, 4, 5]\n"
     ]
    }
   ],
   "source": [
    "given_list = [1,2,3,4,5]\n",
    "given_list.remove(3)\n",
    "print(given_list)"
   ]
  },
  {
   "cell_type": "markdown",
   "metadata": {},
   "source": [
    "###  Question 9 : Write a code to access the second element in the list ['a', 'b', 'c', 'd']."
   ]
  },
  {
   "cell_type": "code",
   "execution_count": 28,
   "metadata": {},
   "outputs": [
    {
     "name": "stdout",
     "output_type": "stream",
     "text": [
      "b\n"
     ]
    }
   ],
   "source": [
    "given_list = [\"a\",\"b\",\"c\",\"d\"]\n",
    "print(given_list[1]) #index will be 1 for 2nd element as indices start from 0."
   ]
  },
  {
   "cell_type": "markdown",
   "metadata": {},
   "source": [
    "### Question 10 :  Write a code to reverse the list [10, 20, 30, 40, 50]."
   ]
  },
  {
   "cell_type": "code",
   "execution_count": 30,
   "metadata": {},
   "outputs": [
    {
     "name": "stdout",
     "output_type": "stream",
     "text": [
      "[50, 40, 30, 20, 10]\n"
     ]
    }
   ],
   "source": [
    "given_list = [10,20,30,40,50]\n",
    "print(given_list[::-1]) #-1 is jump that will start taking element from the end."
   ]
  },
  {
   "cell_type": "markdown",
   "metadata": {},
   "source": [
    "### Question 11 : Write a code to create a tuple with the elements 10, 20, 30 and print it."
   ]
  },
  {
   "cell_type": "code",
   "execution_count": 31,
   "metadata": {},
   "outputs": [
    {
     "name": "stdout",
     "output_type": "stream",
     "text": [
      "(10, 20, 30)\n"
     ]
    }
   ],
   "source": [
    "given_tuple = (10,20,30)\n",
    "print(given_tuple)"
   ]
  },
  {
   "cell_type": "markdown",
   "metadata": {},
   "source": [
    "### Question 12 : Write a code to access the first element of the tuple ('apple', 'banana', 'cherry')."
   ]
  },
  {
   "cell_type": "code",
   "execution_count": 32,
   "metadata": {},
   "outputs": [
    {
     "name": "stdout",
     "output_type": "stream",
     "text": [
      "apple\n"
     ]
    }
   ],
   "source": [
    "given_tuple = (\"apple\",\"banana\",\"cherry\")\n",
    "print(given_tuple[0])"
   ]
  },
  {
   "cell_type": "markdown",
   "metadata": {},
   "source": [
    "### Question 13 : Write a code to count how many times the number 2 appears in the tuple (1, 2, 3, 2, 4, 2)."
   ]
  },
  {
   "cell_type": "code",
   "execution_count": 46,
   "metadata": {},
   "outputs": [
    {
     "name": "stdout",
     "output_type": "stream",
     "text": [
      "No of 2's present in the given tuple is :  3\n"
     ]
    }
   ],
   "source": [
    "given_tuple = (1,2,3,2,4,2)\n",
    "counter = 0\n",
    "for i in range(len(given_tuple)):\n",
    "    if (given_tuple[i] == 2):\n",
    "        counter+=1\n",
    "    else:\n",
    "        continue\n",
    "print(\"No of 2's present in the given tuple is : \",counter)       "
   ]
  },
  {
   "cell_type": "code",
   "execution_count": 48,
   "metadata": {},
   "outputs": [
    {
     "name": "stdout",
     "output_type": "stream",
     "text": [
      "No of 2's present in the given tuple is :  3\n"
     ]
    }
   ],
   "source": [
    "given_tuple = (1,2,3,2,4,2)\n",
    "print(\"No of 2's present in the given tuple is : \",given_tuple.count(2))"
   ]
  },
  {
   "cell_type": "markdown",
   "metadata": {},
   "source": [
    "### Question 14 : Write a code to find the index of the element \"cat\" in the tuple ('dog', 'cat', 'rabbit')."
   ]
  },
  {
   "cell_type": "code",
   "execution_count": 36,
   "metadata": {},
   "outputs": [
    {
     "name": "stdout",
     "output_type": "stream",
     "text": [
      "Index of the given element is :  1\n"
     ]
    }
   ],
   "source": [
    "given_tuple = (\"dog\",\"cat\",\"rabbit\")\n",
    "print(\"Index of the given element is : \",given_tuple.index(\"cat\"))"
   ]
  },
  {
   "cell_type": "markdown",
   "metadata": {},
   "source": [
    "### Question 15 : Write a code to check if the element \"banana\" is in the tuple ('apple', 'orange', 'banana')."
   ]
  },
  {
   "cell_type": "code",
   "execution_count": 38,
   "metadata": {},
   "outputs": [
    {
     "name": "stdout",
     "output_type": "stream",
     "text": [
      "Element banana is present.\n"
     ]
    }
   ],
   "source": [
    "given_tuple = (\"apple\",\"orange\",\"banana\")\n",
    "item = \"banana\"\n",
    "if item in given_tuple:\n",
    "    print(f\"Element {item} is present.\")\n",
    "else:\n",
    "    print(f\"Element {item} is not present.\")"
   ]
  },
  {
   "cell_type": "markdown",
   "metadata": {},
   "source": [
    "### Question 16 : Write a code to create a set with the elements 1, 2, 3, 4, 5 and print it."
   ]
  },
  {
   "cell_type": "code",
   "execution_count": 42,
   "metadata": {},
   "outputs": [
    {
     "name": "stdout",
     "output_type": "stream",
     "text": [
      "{1, 2, 3, 4, 5}\n"
     ]
    }
   ],
   "source": [
    "given_set = {1,2,3,4,5}\n",
    "print(given_set)"
   ]
  },
  {
   "cell_type": "markdown",
   "metadata": {},
   "source": [
    "### Question 17 : Write a code to add the element 6 to the set {1, 2, 3, 4}."
   ]
  },
  {
   "cell_type": "code",
   "execution_count": 45,
   "metadata": {},
   "outputs": [
    {
     "name": "stdout",
     "output_type": "stream",
     "text": [
      "{1, 2, 3, 4, 6}\n"
     ]
    }
   ],
   "source": [
    "given_set = {1,2,3,4}\n",
    "given_set.add(6)\n",
    "print(given_set)"
   ]
  },
  {
   "cell_type": "markdown",
   "metadata": {},
   "source": [
    "### Question 18 : Write a code to create a tuple with the elements 10, 20, 30 and print it."
   ]
  },
  {
   "cell_type": "markdown",
   "metadata": {},
   "source": [
    "#### Answer : Question got repeated. Already Answered. Please refer Question 11."
   ]
  },
  {
   "cell_type": "markdown",
   "metadata": {},
   "source": [
    "### Question 19 : Write a code to access the first element of the tuple ('apple', 'banana', 'cherry')."
   ]
  },
  {
   "cell_type": "markdown",
   "metadata": {},
   "source": [
    "#### Answer : Question got repeated. Already Answered. Please refer Question 12."
   ]
  },
  {
   "cell_type": "markdown",
   "metadata": {},
   "source": [
    "### Question 20 : Write a code to count how many times the number 2 appears in the tuple (1, 2, 3, 2, 4, 2)."
   ]
  },
  {
   "cell_type": "markdown",
   "metadata": {},
   "source": [
    "#### Answer : Question got repeated. Already Answered. Please refer Question 13."
   ]
  },
  {
   "cell_type": "markdown",
   "metadata": {},
   "source": [
    "### Question 21 : Write a code to find the index of the element \"cat\" in the tuple ('dog', 'cat', 'rabbit')."
   ]
  },
  {
   "cell_type": "markdown",
   "metadata": {},
   "source": [
    "#### Answer : Question got repeated. Already Answered. Please refer Question 14."
   ]
  },
  {
   "cell_type": "markdown",
   "metadata": {},
   "source": [
    "### Question 22 : Write a code to check if the element \"banana\" is in the tuple ('apple', 'orange', 'banana')."
   ]
  },
  {
   "cell_type": "markdown",
   "metadata": {},
   "source": [
    "#### Answer : Question got repeated. Already Answered. Please refer Question 15."
   ]
  },
  {
   "cell_type": "markdown",
   "metadata": {},
   "source": [
    "### Question 23 : Write a code to create a set with the elements 1, 2, 3, 4, 5 and print it."
   ]
  },
  {
   "cell_type": "markdown",
   "metadata": {},
   "source": [
    "#### Answer : Question got repeated. Already Answered. Please refer Question 16."
   ]
  },
  {
   "cell_type": "markdown",
   "metadata": {},
   "source": [
    "### Question 24 : Write a code to add the element 6 to the set {1, 2, 3, 4}"
   ]
  },
  {
   "cell_type": "markdown",
   "metadata": {},
   "source": [
    "#### Answer : Question got repeated. Already Answered. Please refer Question 17."
   ]
  },
  {
   "cell_type": "markdown",
   "metadata": {},
   "source": [
    "## Thank You!"
   ]
  },
  {
   "cell_type": "code",
   "execution_count": null,
   "metadata": {},
   "outputs": [],
   "source": []
  }
 ],
 "metadata": {
  "kernelspec": {
   "display_name": "Python 3",
   "language": "python",
   "name": "python3"
  },
  "language_info": {
   "codemirror_mode": {
    "name": "ipython",
    "version": 3
   },
   "file_extension": ".py",
   "mimetype": "text/x-python",
   "name": "python",
   "nbconvert_exporter": "python",
   "pygments_lexer": "ipython3",
   "version": "3.7.3"
  }
 },
 "nbformat": 4,
 "nbformat_minor": 2
}
